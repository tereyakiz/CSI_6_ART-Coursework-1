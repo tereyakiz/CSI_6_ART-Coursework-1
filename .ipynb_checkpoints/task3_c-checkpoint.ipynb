{
 "cells": [
  {
   "cell_type": "markdown",
   "id": "e7435587-5681-40c3-a5a3-b45b1f3aae69",
   "metadata": {},
   "source": []
  },
  {
   "cell_type": "markdown",
   "id": "787c9fec-9c22-4184-b337-09c3a0d23b76",
   "metadata": {},
   "source": [
    "## Write a program that reads from a camera source and does the following.  \n",
    "1.\tShows the default values of Framerate, Brightness, Contrast and Saturation values. \n",
    "2.\tAsks the user to alter these one by one.  \n",
    "3.\tShows the live feed with the altered settings \n"
   ]
  },
  {
   "cell_type": "code",
   "execution_count": 43,
   "id": "f5dd2c3c-f17b-4cbf-8323-d899acfc3042",
   "metadata": {},
   "outputs": [],
   "source": [
    "import cv2\n"
   ]
  },
  {
   "cell_type": "code",
   "execution_count": 44,
   "id": "46a0ee33-e6de-465d-89d0-c3334821cbeb",
   "metadata": {},
   "outputs": [],
   "source": [
    "def getCaptureProperties(cap):\n",
    "    '''Funtion to show properties or default values of Capture device'''    \n",
    "    print(\"Video Capture default values :\")\n",
    "    print(\"Frame Rate :\", cap.get(cv2.CAP_PROP_FPS))\n",
    "    print(\"Brightness : \", cap.get(cv2.CAP_PROP_BRIGHTNESS))\n",
    "    print(\"Contrast : \", cap.get(cv2.CAP_PROP_CONTRAST))\n",
    "    print(\"Saturation :\", cap.get(cv2.CAP_PROP_SATURATION))"
   ]
  },
  {
   "cell_type": "code",
   "execution_count": 45,
   "id": "0e9dfef5-ce10-4b80-a6e0-b5efa103d630",
   "metadata": {},
   "outputs": [],
   "source": [
    "vidPath = 'data_bus.avi'\n",
    "# vidPath = 0 \n",
    "cap = cv2.VideoCapture(vidPath)"
   ]
  },
  {
   "cell_type": "code",
   "execution_count": 46,
   "id": "2451c26b-0c7d-4f81-ad0c-2424e17c4d49",
   "metadata": {},
   "outputs": [
    {
     "name": "stdout",
     "output_type": "stream",
     "text": [
      "Video Capture default values :\n",
      "Frame Rate : 15.0\n",
      "Brightness :  0.0\n",
      "Contrast :  0.0\n",
      "Saturation : 0.0\n"
     ]
    }
   ],
   "source": [
    "getCaptureProperties(cap)"
   ]
  },
  {
   "cell_type": "markdown",
   "id": "3a975a6a-439a-481c-af85-4e8d61cf7027",
   "metadata": {},
   "source": [
    "#### Alter the camera values\n"
   ]
  },
  {
   "cell_type": "code",
   "execution_count": 47,
   "id": "258534a7-b3ba-4ea3-bc5b-a4dd886cbae5",
   "metadata": {},
   "outputs": [],
   "source": [
    "def getAlterValues():\n",
    "    '''Function to input alter values '''\n",
    "    frameRate_alt = int(input(\"Please input framerate value to set\"))\n",
    "    brightness_alt = int(input(\"Please input brightness value to set \"))\n",
    "    contrast_alt = int(input(\"Please input contrast value to set \"))\n",
    "    sat_alt = int(input(\"Please input saturation value to set \"))\n",
    "    \n",
    "    return [frameRate_alt, brightness_alt, contrast_alt, sat_alt]"
   ]
  },
  {
   "cell_type": "code",
   "execution_count": 48,
   "id": "dedb1575-94ad-4d7a-9cdf-f3585fe758f8",
   "metadata": {},
   "outputs": [],
   "source": [
    "def alter_new_values(cap, values_list):\n",
    "    ## Set capture  new alter values\n",
    "    frameRate_alt, brightness_alt, contrast_alt, sat_alt = values_list\n",
    "    \n",
    "    cap.set(cv2.CAP_PROP_FPS, frameRate_alt)\n",
    "    cap.set(cv2.CAP_PROP_BRIGHTNESS, brightness_alt)\n",
    "    cap.set(cv2.CAP_PROP_CONTRAST, contrast_alt)\n",
    "    cap.set(cv2.CAP_PROP_SATURATION, sat_alt)\n",
    "    \n",
    "\n",
    "    "
   ]
  },
  {
   "cell_type": "code",
   "execution_count": null,
   "id": "eeea4bac-8840-447f-8d96-938d38a95fbe",
   "metadata": {},
   "outputs": [],
   "source": [
    "### Take input of new alter values of VideoCapture\n",
    "\n",
    "alter_values_list = getAlterValues()"
   ]
  },
  {
   "cell_type": "code",
   "execution_count": 38,
   "id": "93935f81-b86b-4ddc-a2bd-b3ed90ec4098",
   "metadata": {},
   "outputs": [],
   "source": [
    "### Apply new values to VideoCapture\n",
    "\n",
    "alter_new_values(cap, alter_values_list)\n"
   ]
  },
  {
   "cell_type": "code",
   "execution_count": 41,
   "id": "bc2a2a44-4998-4a4a-b05e-69fab5b966e7",
   "metadata": {},
   "outputs": [
    {
     "name": "stdout",
     "output_type": "stream",
     "text": [
      "Video Capture default values :\n",
      "Frame Rate : 30.0\n",
      "Brightness :  -1.0\n",
      "Contrast :  -1.0\n",
      "Saturation : -1.0\n"
     ]
    }
   ],
   "source": [
    "\n",
    "getCaptureProperties(cap)\n",
    "\n",
    "\n"
   ]
  },
  {
   "cell_type": "code",
   "execution_count": 42,
   "id": "19b45fec-353f-4346-951e-f1decf7ab052",
   "metadata": {},
   "outputs": [
    {
     "name": "stdout",
     "output_type": "stream",
     "text": [
      "No stream or end of stream\n"
     ]
    }
   ],
   "source": [
    "while True:\n",
    "    ret, img = cap.read()\n",
    "    if ret:\n",
    "        cv2.imshow(\"With altered values\", img)\n",
    "        key = cv2.waitKey(1)\n",
    "        if key == ord(\"q\"):\n",
    "            break\n",
    "    else:\n",
    "        print(\"No stream or end of stream\")\n",
    "        break"
   ]
  },
  {
   "cell_type": "code",
   "execution_count": null,
   "id": "388380cd-c24b-486a-9757-6099ff4b6196",
   "metadata": {},
   "outputs": [],
   "source": []
  }
 ],
 "metadata": {
  "kernelspec": {
   "display_name": "Python 3 (ipykernel)",
   "language": "python",
   "name": "python3"
  },
  "language_info": {
   "codemirror_mode": {
    "name": "ipython",
    "version": 3
   },
   "file_extension": ".py",
   "mimetype": "text/x-python",
   "name": "python",
   "nbconvert_exporter": "python",
   "pygments_lexer": "ipython3",
   "version": "3.9.5"
  }
 },
 "nbformat": 4,
 "nbformat_minor": 5
}
