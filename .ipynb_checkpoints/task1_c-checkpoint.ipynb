{
 "cells": [
  {
   "cell_type": "markdown",
   "id": "5c010d8a-5fc7-4295-8840-7f2a110abb61",
   "metadata": {},
   "source": [
    "### Write a program that prompts the user to provide the location of an image file. The program must display the following \n",
    "1.\tImage resolution  \n",
    "2.\tIs the image a greyscale image or color? \n",
    "3.\tThe histogram of the image. \n"
   ]
  },
  {
   "cell_type": "code",
   "execution_count": 2,
   "id": "384541c0-e399-4393-9b42-5d0a05edd569",
   "metadata": {},
   "outputs": [],
   "source": [
    "import cv2\n",
    "import os\n",
    "from matplotlib import pyplot as plt"
   ]
  },
  {
   "cell_type": "code",
   "execution_count": 3,
   "id": "9be95825-d882-4206-8e24-f4af5c5d6945",
   "metadata": {},
   "outputs": [
    {
     "name": "stdin",
     "output_type": "stream",
     "text": [
      "Please input the image file path :  caca1.jpg\n"
     ]
    }
   ],
   "source": [
    "filePath = input(\"Please input the image file path : \")"
   ]
  },
  {
   "cell_type": "code",
   "execution_count": 5,
   "id": "276f333b-ee2f-4bef-9a4f-cfb20fc91b7a",
   "metadata": {},
   "outputs": [
    {
     "name": "stdout",
     "output_type": "stream",
     "text": [
      "Image size : 2362 x 2362\n",
      "Image type : Color\n"
     ]
    }
   ],
   "source": [
    "try:\n",
    "    img = cv2.imread(filePath)\n",
    "    h, w, ch = img.shape[:]     ## get height, width and number of channels of image\n",
    "    \n",
    "    ## if number of channels is 1 its a grayscale image and if 3 its a color image with blue, green and red channel\n",
    "    \n",
    "    if ch == 1:\n",
    "        imgType = \"Grayscale\"\n",
    "    elif ch ==3:\n",
    "        imgType = \"Color\"\n",
    "          \n",
    "    \n",
    "    print(f\"Image size : {w} x {h}\")\n",
    "    print(f\"Image type : {imgType}\")\n",
    " \n",
    "except:\n",
    "    print(\"Error in reading input file path\")"
   ]
  },
  {
   "cell_type": "code",
   "execution_count": 20,
   "id": "f41540bf-a8dd-413e-a3bd-53caf74bf3ce",
   "metadata": {},
   "outputs": [
    {
     "data": {
      "image/png": "[encoded data removed]",
      "text/plain": [
       "<Figure size 432x288 with 1 Axes>"
      ]
     },
     "metadata": {
      "needs_background": "light"
     },
     "output_type": "display_data"
    }
   ],
   "source": [
    "if imgType ==\"Color\":\n",
    "    color = ('b','g','r')\n",
    "    \n",
    "    for i,col in enumerate(color):\n",
    "        histr = cv2.calcHist([img],[i],None,[256],[0,256])  # histogram of each channel, blue, green and red\n",
    "        plt.plot(histr,color = col)\n",
    "        plt.xlim([0,256])\n",
    "        \n",
    "    plt.show()\n",
    "elif imgType == \"GrayScale\":\n",
    "   \n",
    "    histr_gray = cv2.calcHist([img],[0],None,[256],[0,256])\n",
    "    plt.plot(histr_gray,color = 'gray')\n",
    "    plt.xlim([0,256])\n",
    "    plt.show()\n",
    "\n",
    "cv2.imshow(\"InputImg\", img)\n",
    "cv2.waitKey(0)\n",
    "cv2.destroyAllWindows()\n",
    "    "
   ]
  },
  {
   "cell_type": "code",
   "execution_count": null,
   "id": "35848db1-6980-4e7c-b9be-26f0403c4147",
   "metadata": {},
   "outputs": [],
   "source": [
    "\n"
   ]
  },
  {
   "cell_type": "code",
   "execution_count": null,
   "id": "ab6a9a8a-442d-45ed-8301-e723cba305e1",
   "metadata": {},
   "outputs": [],
   "source": []
  },
  {
   "cell_type": "code",
   "execution_count": null,
   "id": "1520d0ab-871f-4a44-a364-6387f01e4632",
   "metadata": {},
   "outputs": [],
   "source": []
  }
 ],
 "metadata": {
  "kernelspec": {
   "display_name": "Python 3 (ipykernel)",
   "language": "python",
   "name": "python3"
  },
  "language_info": {
   "codemirror_mode": {
    "name": "ipython",
    "version": 3
   },
   "file_extension": ".py",
   "mimetype": "text/x-python",
   "name": "python",
   "nbconvert_exporter": "python",
   "pygments_lexer": "ipython3",
   "version": "3.9.5"
  }
 },
 "nbformat": 4,
 "nbformat_minor": 5
}
