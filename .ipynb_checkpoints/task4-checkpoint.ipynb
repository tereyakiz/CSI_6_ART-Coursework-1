{
 "cells": [
  {
   "cell_type": "markdown",
   "id": "3d067c12-9ed8-4370-8f01-ab1d2b0c1e11",
   "metadata": {},
   "source": [
    "Write a program that reads a live camera feed and shows four windows, the original stream along with the Red, Green and Blue Channels. Each window must have the appropriate name and the window must also display a text within a rectangle at the top right corner indicating the channel it is showing (Refer to the layout below).  "
   ]
  },
  {
   "cell_type": "code",
   "execution_count": 1,
   "id": "c8fe1fa8-1127-43b5-ae9a-66397e7ccc55",
   "metadata": {},
   "outputs": [],
   "source": [
    "import cv2\n",
    "import numpy as np"
   ]
  },
  {
   "cell_type": "code",
   "execution_count": 2,
   "id": "8e3c09e4-16fb-4bf1-b062-bb2d6d1f0026",
   "metadata": {},
   "outputs": [],
   "source": [
    "vidPath = int(0)\n",
    "cap = cv2.VideoCapture(vidPath)"
   ]
  },
  {
   "cell_type": "code",
   "execution_count": 3,
   "id": "dab7c53d-3bac-4546-bd23-37932c5813c8",
   "metadata": {},
   "outputs": [],
   "source": [
    "def show_r_g_b_split(frame):\n",
    "    '''Function to show each channel frame seperately '''\n",
    "    b,g,r = cv2.split(frame)   ## Split blue, green and red channel\n",
    "    h,w = b.shape[:2]\n",
    "    color_list = [\"Blue\", \"Green\", \"Red\"]\n",
    "    split_bgr_list = [b,g,r]\n",
    "    ## Loop through and show each channel image\n",
    "    \n",
    "    for i, color in enumerate(color_list):\n",
    "        frame_clr = split_bgr_list[i]\n",
    "        ## create blank channel with all pixel values as zero\n",
    "        zero_ch = np.zeros((h,w,3), np.uint8)\n",
    "        \n",
    "        ## assign corresponding channel its values keeping other two channel as 0 values \n",
    "        zero_ch[:,:,i] = frame_clr\n",
    "        cv2.putText(zero_ch, f\"{color} channel\", (w-200, 30), cv2.FONT_HERSHEY_SIMPLEX, 0.7, (255,255,255),2)\n",
    "        ## Show channel\n",
    "        cv2.imshow(color, zero_ch)\n",
    "        \n",
    "        \n",
    "    "
   ]
  },
  {
   "cell_type": "code",
   "execution_count": 4,
   "id": "f0252cab-1b5c-42dd-9985-ea1f09058fd0",
   "metadata": {},
   "outputs": [],
   "source": [
    "try:\n",
    "    while True:\n",
    "        ret, img = cap.read()\n",
    "        if ret:\n",
    "            cv2.imshow(\"Original\", img)\n",
    "            \n",
    "            ### Display each channel seperately\n",
    "            show_r_g_b_split(img)\n",
    "            key = cv2.waitKey(1)\n",
    "            if key == ord(\"d\"):\n",
    "                break\n",
    "        else:\n",
    "            print(\"No stream or end of stream\")\n",
    "            break\n",
    "except Exception as e:\n",
    "    print(\"Error\", e)\n",
    "finally:\n",
    "    cv2.destroyAllWindows()\n",
    "   "
   ]
  }
 ],
 "metadata": {
  "kernelspec": {
   "display_name": "Python 3 (ipykernel)",
   "language": "python",
   "name": "python3"
  },
  "language_info": {
   "codemirror_mode": {
    "name": "ipython",
    "version": 3
   },
   "file_extension": ".py",
   "mimetype": "text/x-python",
   "name": "python",
   "nbconvert_exporter": "python",
   "pygments_lexer": "ipython3",
   "version": "3.8.10"
  }
 },
 "nbformat": 4,
 "nbformat_minor": 5
}
