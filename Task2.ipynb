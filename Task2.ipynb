{
 "cells": [
  {
   "cell_type": "markdown",
   "id": "3b6324bb-20e8-4391-bf95-c9472fe341e1",
   "metadata": {},
   "source": [
    "## Task 2: \n",
    "Write a program that asks the user to provide a video input type (Video file or live camera), a valid scale factor and an Interpolation rule (Inter_Area, Linear or Cubic). The program must show two frames side by side (Original and Scaled).  \n"
   ]
  },
  {
   "cell_type": "code",
   "execution_count": 1,
   "id": "82cf5435-f594-456e-8401-565ac3df876a",
   "metadata": {
    "tags": []
   },
   "outputs": [],
   "source": [
    "import cv2\n",
    "import numpy as np"
   ]
  },
  {
   "cell_type": "code",
   "execution_count": 2,
   "id": "5c69df33-571c-4ac6-aa88-258ce7116ead",
   "metadata": {},
   "outputs": [],
   "source": [
    "def getInput():\n",
    "    '''Function to take user input of video path and scale factor'''\n",
    "    \n",
    "    vidPath = input(\"Please provide video file path or input '0' for default camera :\")\n",
    "    if vidPath.isnumeric():\n",
    "        vidPath = int(vidPath)  # converting to integer if it is numeric for camera id\n",
    "        \n",
    "    scaleFactor = input(\"Please input the scale factor :\") \n",
    "    scaleFactor = float(scaleFactor)  # typecasting scalefactor to float\n",
    "    return vidPath, scaleFactor\n",
    "    "
   ]
  },
  {
   "cell_type": "code",
   "execution_count": 3,
   "id": "76b49947-f328-4311-9c58-c00b1da5aca8",
   "metadata": {},
   "outputs": [],
   "source": [
    "def get_interpolation_input():\n",
    "    '''Function that takes user input for the interpolation type'''\n",
    "    print(\"Choose interpolation type from below\")\n",
    "    print(\"1. INTER_AREA\")\n",
    "    print(\"2. INTER_LINEAR\")\n",
    "    print(\"3. Cubic\")\n",
    "    while True:\n",
    "        interpoloation_choice = input(\"Please input choice number (1 or 2 or 3) :\")\n",
    "\n",
    "        if int(interpoloation_choice) == 1:\n",
    "            interpolation = cv2.INTER_AREA\n",
    "            break\n",
    "        elif int(interpoloation_choice) == 2:\n",
    "            interpolation = cv2.INTER_LINEAR\n",
    "            break\n",
    "        elif int(interpoloation_choice)==3:\n",
    "            interpolation = cv2.INTER_CUBIC\n",
    "            break\n",
    "        else:\n",
    "            ## Re-loop again if not correct input\n",
    "            interpolation = None\n",
    "            print(\"Wrong input.. \")\n",
    "            print(\"Please provide correct input!\")\n",
    "        \n",
    "    return interpolation\n",
    "        "
   ]
  },
  {
   "cell_type": "code",
   "execution_count": null,
   "id": "7d9fb414-34f1-41f0-993e-102fa737c40f",
   "metadata": {},
   "outputs": [],
   "source": [
    "## Take user input\n",
    "vidPath, scaleFactor = getInput()"
   ]
  },
  {
   "cell_type": "code",
   "execution_count": 5,
   "id": "2f7e9ea7-b891-4ab8-83ab-a1b4d27aee40",
   "metadata": {},
   "outputs": [
    {
     "name": "stdout",
     "output_type": "stream",
     "text": [
      "Choose interpolation type from below\n",
      "1. INTER_AREA\n",
      "2. INTER_LINEAR\n",
      "3. Cubic\n"
     ]
    },
    {
     "name": "stdin",
     "output_type": "stream",
     "text": [
      "Please input choice number (1 or 2 or 3) : 3\n"
     ]
    }
   ],
   "source": [
    "## User input for interploation type\n",
    "\n",
    "interpolation_input = get_interpolation_input()"
   ]
  },
  {
   "cell_type": "code",
   "execution_count": 6,
   "id": "561f99db-2bbc-4680-b928-a64331208f14",
   "metadata": {
    "tags": []
   },
   "outputs": [],
   "source": [
    "try:\n",
    "    cap = cv2.VideoCapture(vidPath)  # Creating videoCapture object \n",
    "    while True:\n",
    "        ret, img = cap.read()\n",
    "        if ret:\n",
    "            ## Resizing the image\n",
    "            resized_img = cv2.resize(img, dsize=None, fx = scaleFactor, fy = scaleFactor, interpolation = interpolation_input)\n",
    "            \n",
    "            \n",
    "            h_img, w_img, ch_img = img.shape    # Original image shape\n",
    "            h_res, w_res, ch_res = resized_img.shape  # Resized image shape\n",
    "            \n",
    "            blank_img = np.zeros((h_img, w_img, ch_img), dtype = np.uint8)  ## creating black blank image of size original image\n",
    "            blank_img[:h_res, :w_res] = resized_img    ## Adding resized image at top left corner \n",
    "            hstacked = np.hstack((img, blank_img))    ## Horizontal stack of original and new black blank image\n",
    "            cv2.imshow(\"Interpolation input and resized\", hstacked)\n",
    "            \n",
    "            key = cv2.waitKey(1)\n",
    "            if key == ord(\"d\"):\n",
    "                break\n",
    "        else:\n",
    "            print(\"No stream or end of stream\")\n",
    "            break\n",
    "except Exception as e:\n",
    "    print(\"Error : \",e)\n",
    "finally:\n",
    "    cv2.destroyAllWindows()\n",
    "        "
   ]
  }
 ],
 "metadata": {
  "kernelspec": {
   "display_name": "Python 3 (ipykernel)",
   "language": "python",
   "name": "python3"
  },
  "language_info": {
   "codemirror_mode": {
    "name": "ipython",
    "version": 3
   },
   "file_extension": ".py",
   "mimetype": "text/x-python",
   "name": "python",
   "nbconvert_exporter": "python",
   "pygments_lexer": "ipython3",
   "version": "3.8.10"
  }
 },
 "nbformat": 4,
 "nbformat_minor": 5
}
